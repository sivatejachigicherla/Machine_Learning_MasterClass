{
 "cells": [
  {
   "cell_type": "code",
   "execution_count": 39,
   "metadata": {},
   "outputs": [],
   "source": [
    "from collections import Counter\n"
   ]
  },
  {
   "cell_type": "code",
   "execution_count": 40,
   "metadata": {},
   "outputs": [
    {
     "name": "stdout",
     "output_type": "stream",
     "text": [
      "Counter({'e': 5, ' ': 3, 's': 3, 'i': 2, 'T': 1, 'h': 1, 'u': 1, 'n': 1, 'v': 1, 'r': 1, 'a': 1, 'w': 1, 'o': 1, 'm': 1})\n"
     ]
    },
    {
     "data": {
      "text/plain": [
       "collections.Counter"
      ]
     },
     "execution_count": 40,
     "metadata": {},
     "output_type": "execute_result"
    }
   ],
   "source": [
    "a = \"The universe is awesome\"\n",
    "myCounter = Counter(a)\n",
    "print(myCounter)\n",
    "type(myCounter)"
   ]
  },
  {
   "cell_type": "code",
   "execution_count": 41,
   "metadata": {},
   "outputs": [
    {
     "name": "stdout",
     "output_type": "stream",
     "text": [
      "[('e', 5), (' ', 3)]\n"
     ]
    }
   ],
   "source": [
    "print(myCounter.most_common(2))"
   ]
  },
  {
   "cell_type": "code",
   "execution_count": 42,
   "metadata": {},
   "outputs": [
    {
     "name": "stdout",
     "output_type": "stream",
     "text": [
      "['T', 'h', 'e', 'e', 'e', 'e', 'e', ' ', ' ', ' ', 'u', 'n', 'i', 'i', 'v', 'r', 's', 's', 's', 'a', 'w', 'o', 'm']\n"
     ]
    }
   ],
   "source": [
    "print(list(myCounter.elements()))"
   ]
  },
  {
   "cell_type": "code",
   "execution_count": 43,
   "metadata": {},
   "outputs": [],
   "source": [
    "from collections import namedtuple"
   ]
  },
  {
   "cell_type": "code",
   "execution_count": 44,
   "metadata": {},
   "outputs": [
    {
     "name": "stdout",
     "output_type": "stream",
     "text": [
      "point(x=1, y=2)\n"
     ]
    }
   ],
   "source": [
    "Point = namedtuple('point','x,y')\n",
    "pt = Point(1,2)\n",
    "print(pt)"
   ]
  },
  {
   "cell_type": "code",
   "execution_count": 45,
   "metadata": {},
   "outputs": [],
   "source": [
    "from collections import OrderedDict\n"
   ]
  },
  {
   "cell_type": "code",
   "execution_count": 46,
   "metadata": {},
   "outputs": [
    {
     "name": "stdout",
     "output_type": "stream",
     "text": [
      "dgdgg\n"
     ]
    }
   ],
   "source": [
    "orderedDict = OrderedDict() #remembers the order of elements inserted\n",
    "orderedDict['g'] = 'dgdgg'\n",
    "print(orderedDict['g'])"
   ]
  },
  {
   "cell_type": "code",
   "execution_count": 47,
   "metadata": {},
   "outputs": [
    {
     "name": "stdout",
     "output_type": "stream",
     "text": [
      "deque([4, 858, 96])\n"
     ]
    }
   ],
   "source": [
    "from collections import  deque\n",
    "doubleEndedQueue = deque()\n",
    "doubleEndedQueue.append(4)\n",
    "doubleEndedQueue.append(858)\n",
    "doubleEndedQueue.append(96)\n",
    "print(doubleEndedQueue)"
   ]
  },
  {
   "cell_type": "code",
   "execution_count": 48,
   "metadata": {},
   "outputs": [
    {
     "name": "stdout",
     "output_type": "stream",
     "text": [
      "deque([77, 4, 858, 96])\n"
     ]
    }
   ],
   "source": [
    "doubleEndedQueue.appendleft(77)\n",
    "print(doubleEndedQueue)"
   ]
  },
  {
   "cell_type": "code",
   "execution_count": 49,
   "metadata": {},
   "outputs": [
    {
     "name": "stdout",
     "output_type": "stream",
     "text": [
      "deque([96, 77, 4, 858])\n"
     ]
    }
   ],
   "source": [
    "doubleEndedQueue.rotate()\n",
    "print(doubleEndedQueue)"
   ]
  }
 ],
 "metadata": {
  "kernelspec": {
   "display_name": "Python 3",
   "language": "python",
   "name": "python3"
  },
  "language_info": {
   "codemirror_mode": {
    "name": "ipython",
    "version": 3
   },
   "file_extension": ".py",
   "mimetype": "text/x-python",
   "name": "python",
   "nbconvert_exporter": "python",
   "pygments_lexer": "ipython3",
   "version": "3.7.6"
  }
 },
 "nbformat": 4,
 "nbformat_minor": 4
}
